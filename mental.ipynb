{
 "cells": [
  {
   "cell_type": "code",
   "execution_count": 1,
   "id": "b4ce3b03",
   "metadata": {},
   "outputs": [],
   "source": [
    "import torch\n",
    "import pandas as pd\n",
    "import numpy as np\n",
    "import matplotlib\n",
    "import matplotlib.pyplot as plt\n",
    "%matplotlib inline"
   ]
  },
  {
   "cell_type": "code",
   "execution_count": 2,
   "id": "72bf6910",
   "metadata": {},
   "outputs": [],
   "source": [
    "from sklearn.model_selection import train_test_split\n",
    "from sklearn.preprocessing import MinMaxScaler, StandardScaler, LabelEncoder\n",
    "from sklearn.linear_model import LogisticRegression\n",
    "from sklearn.neighbors import KNeighborsClassifier\n",
    "from sklearn.ensemble import RandomForestClassifier, VotingClassifier"
   ]
  },
  {
   "cell_type": "code",
   "execution_count": 3,
   "id": "26363fb0",
   "metadata": {},
   "outputs": [
    {
     "data": {
      "text/html": [
       "<div>\n",
       "<style scoped>\n",
       "    .dataframe tbody tr th:only-of-type {\n",
       "        vertical-align: middle;\n",
       "    }\n",
       "\n",
       "    .dataframe tbody tr th {\n",
       "        vertical-align: top;\n",
       "    }\n",
       "\n",
       "    .dataframe thead th {\n",
       "        text-align: right;\n",
       "    }\n",
       "</style>\n",
       "<table border=\"1\" class=\"dataframe\">\n",
       "  <thead>\n",
       "    <tr style=\"text-align: right;\">\n",
       "      <th></th>\n",
       "      <th>id</th>\n",
       "      <th>Name</th>\n",
       "      <th>Gender</th>\n",
       "      <th>Age</th>\n",
       "      <th>City</th>\n",
       "      <th>Working Professional or Student</th>\n",
       "      <th>Profession</th>\n",
       "      <th>Academic Pressure</th>\n",
       "      <th>Work Pressure</th>\n",
       "      <th>CGPA</th>\n",
       "      <th>Study Satisfaction</th>\n",
       "      <th>Job Satisfaction</th>\n",
       "      <th>Sleep Duration</th>\n",
       "      <th>Dietary Habits</th>\n",
       "      <th>Degree</th>\n",
       "      <th>Have you ever had suicidal thoughts ?</th>\n",
       "      <th>Work/Study Hours</th>\n",
       "      <th>Financial Stress</th>\n",
       "      <th>Family History of Mental Illness</th>\n",
       "      <th>Depression</th>\n",
       "    </tr>\n",
       "  </thead>\n",
       "  <tbody>\n",
       "    <tr>\n",
       "      <th>0</th>\n",
       "      <td>0</td>\n",
       "      <td>Aaradhya</td>\n",
       "      <td>Female</td>\n",
       "      <td>49.0</td>\n",
       "      <td>Ludhiana</td>\n",
       "      <td>Working Professional</td>\n",
       "      <td>Chef</td>\n",
       "      <td>NaN</td>\n",
       "      <td>5.0</td>\n",
       "      <td>NaN</td>\n",
       "      <td>NaN</td>\n",
       "      <td>2.0</td>\n",
       "      <td>More than 8 hours</td>\n",
       "      <td>Healthy</td>\n",
       "      <td>BHM</td>\n",
       "      <td>No</td>\n",
       "      <td>1.0</td>\n",
       "      <td>2.0</td>\n",
       "      <td>No</td>\n",
       "      <td>0</td>\n",
       "    </tr>\n",
       "    <tr>\n",
       "      <th>1</th>\n",
       "      <td>1</td>\n",
       "      <td>Vivan</td>\n",
       "      <td>Male</td>\n",
       "      <td>26.0</td>\n",
       "      <td>Varanasi</td>\n",
       "      <td>Working Professional</td>\n",
       "      <td>Teacher</td>\n",
       "      <td>NaN</td>\n",
       "      <td>4.0</td>\n",
       "      <td>NaN</td>\n",
       "      <td>NaN</td>\n",
       "      <td>3.0</td>\n",
       "      <td>Less than 5 hours</td>\n",
       "      <td>Unhealthy</td>\n",
       "      <td>LLB</td>\n",
       "      <td>Yes</td>\n",
       "      <td>7.0</td>\n",
       "      <td>3.0</td>\n",
       "      <td>No</td>\n",
       "      <td>1</td>\n",
       "    </tr>\n",
       "    <tr>\n",
       "      <th>2</th>\n",
       "      <td>2</td>\n",
       "      <td>Yuvraj</td>\n",
       "      <td>Male</td>\n",
       "      <td>33.0</td>\n",
       "      <td>Visakhapatnam</td>\n",
       "      <td>Student</td>\n",
       "      <td>NaN</td>\n",
       "      <td>5.0</td>\n",
       "      <td>NaN</td>\n",
       "      <td>8.97</td>\n",
       "      <td>2.0</td>\n",
       "      <td>NaN</td>\n",
       "      <td>5-6 hours</td>\n",
       "      <td>Healthy</td>\n",
       "      <td>B.Pharm</td>\n",
       "      <td>Yes</td>\n",
       "      <td>3.0</td>\n",
       "      <td>1.0</td>\n",
       "      <td>No</td>\n",
       "      <td>1</td>\n",
       "    </tr>\n",
       "    <tr>\n",
       "      <th>3</th>\n",
       "      <td>3</td>\n",
       "      <td>Yuvraj</td>\n",
       "      <td>Male</td>\n",
       "      <td>22.0</td>\n",
       "      <td>Mumbai</td>\n",
       "      <td>Working Professional</td>\n",
       "      <td>Teacher</td>\n",
       "      <td>NaN</td>\n",
       "      <td>5.0</td>\n",
       "      <td>NaN</td>\n",
       "      <td>NaN</td>\n",
       "      <td>1.0</td>\n",
       "      <td>Less than 5 hours</td>\n",
       "      <td>Moderate</td>\n",
       "      <td>BBA</td>\n",
       "      <td>Yes</td>\n",
       "      <td>10.0</td>\n",
       "      <td>1.0</td>\n",
       "      <td>Yes</td>\n",
       "      <td>1</td>\n",
       "    </tr>\n",
       "    <tr>\n",
       "      <th>4</th>\n",
       "      <td>4</td>\n",
       "      <td>Rhea</td>\n",
       "      <td>Female</td>\n",
       "      <td>30.0</td>\n",
       "      <td>Kanpur</td>\n",
       "      <td>Working Professional</td>\n",
       "      <td>Business Analyst</td>\n",
       "      <td>NaN</td>\n",
       "      <td>1.0</td>\n",
       "      <td>NaN</td>\n",
       "      <td>NaN</td>\n",
       "      <td>1.0</td>\n",
       "      <td>5-6 hours</td>\n",
       "      <td>Unhealthy</td>\n",
       "      <td>BBA</td>\n",
       "      <td>Yes</td>\n",
       "      <td>9.0</td>\n",
       "      <td>4.0</td>\n",
       "      <td>Yes</td>\n",
       "      <td>0</td>\n",
       "    </tr>\n",
       "  </tbody>\n",
       "</table>\n",
       "</div>"
      ],
      "text/plain": [
       "   id      Name  Gender   Age           City Working Professional or Student  \\\n",
       "0   0  Aaradhya  Female  49.0       Ludhiana            Working Professional   \n",
       "1   1     Vivan    Male  26.0       Varanasi            Working Professional   \n",
       "2   2    Yuvraj    Male  33.0  Visakhapatnam                         Student   \n",
       "3   3    Yuvraj    Male  22.0         Mumbai            Working Professional   \n",
       "4   4      Rhea  Female  30.0         Kanpur            Working Professional   \n",
       "\n",
       "         Profession  Academic Pressure  Work Pressure  CGPA  \\\n",
       "0              Chef                NaN            5.0   NaN   \n",
       "1           Teacher                NaN            4.0   NaN   \n",
       "2               NaN                5.0            NaN  8.97   \n",
       "3           Teacher                NaN            5.0   NaN   \n",
       "4  Business Analyst                NaN            1.0   NaN   \n",
       "\n",
       "   Study Satisfaction  Job Satisfaction     Sleep Duration Dietary Habits  \\\n",
       "0                 NaN               2.0  More than 8 hours        Healthy   \n",
       "1                 NaN               3.0  Less than 5 hours      Unhealthy   \n",
       "2                 2.0               NaN          5-6 hours        Healthy   \n",
       "3                 NaN               1.0  Less than 5 hours       Moderate   \n",
       "4                 NaN               1.0          5-6 hours      Unhealthy   \n",
       "\n",
       "    Degree Have you ever had suicidal thoughts ?  Work/Study Hours  \\\n",
       "0      BHM                                    No               1.0   \n",
       "1      LLB                                   Yes               7.0   \n",
       "2  B.Pharm                                   Yes               3.0   \n",
       "3      BBA                                   Yes              10.0   \n",
       "4      BBA                                   Yes               9.0   \n",
       "\n",
       "   Financial Stress Family History of Mental Illness  Depression  \n",
       "0               2.0                               No           0  \n",
       "1               3.0                               No           1  \n",
       "2               1.0                               No           1  \n",
       "3               1.0                              Yes           1  \n",
       "4               4.0                              Yes           0  "
      ]
     },
     "execution_count": 3,
     "metadata": {},
     "output_type": "execute_result"
    }
   ],
   "source": [
    "train_origin = pd.read_csv(\"D:/Documents/Kaggel-game-Mental Health/train.csv\")\n",
    "test_origin = pd.read_csv(\"D:/Documents/Kaggel-game-Mental Health/test.csv\")\n",
    "train_origin.head()"
   ]
  },
  {
   "cell_type": "markdown",
   "id": "2cd16776",
   "metadata": {},
   "source": [
    "#### （数据处理）删除id、Name、City"
   ]
  },
  {
   "cell_type": "code",
   "execution_count": 4,
   "id": "07fa92e8",
   "metadata": {},
   "outputs": [],
   "source": [
    "train_origin = train_origin.drop([\"id\",\"Name\",\"City\"],axis = 1)\n",
    "test_origin = test_origin.drop([\"id\",\"Name\",\"City\"],axis = 1)"
   ]
  },
  {
   "cell_type": "code",
   "execution_count": 5,
   "id": "b150cab9",
   "metadata": {},
   "outputs": [
    {
     "data": {
      "text/html": [
       "<div>\n",
       "<style scoped>\n",
       "    .dataframe tbody tr th:only-of-type {\n",
       "        vertical-align: middle;\n",
       "    }\n",
       "\n",
       "    .dataframe tbody tr th {\n",
       "        vertical-align: top;\n",
       "    }\n",
       "\n",
       "    .dataframe thead th {\n",
       "        text-align: right;\n",
       "    }\n",
       "</style>\n",
       "<table border=\"1\" class=\"dataframe\">\n",
       "  <thead>\n",
       "    <tr style=\"text-align: right;\">\n",
       "      <th></th>\n",
       "      <th>Gender</th>\n",
       "      <th>Age</th>\n",
       "      <th>Working Professional or Student</th>\n",
       "      <th>Profession</th>\n",
       "      <th>Academic Pressure</th>\n",
       "      <th>Work Pressure</th>\n",
       "      <th>CGPA</th>\n",
       "      <th>Study Satisfaction</th>\n",
       "      <th>Job Satisfaction</th>\n",
       "      <th>Sleep Duration</th>\n",
       "      <th>Dietary Habits</th>\n",
       "      <th>Degree</th>\n",
       "      <th>Have you ever had suicidal thoughts ?</th>\n",
       "      <th>Work/Study Hours</th>\n",
       "      <th>Financial Stress</th>\n",
       "      <th>Family History of Mental Illness</th>\n",
       "      <th>Depression</th>\n",
       "    </tr>\n",
       "  </thead>\n",
       "  <tbody>\n",
       "    <tr>\n",
       "      <th>0</th>\n",
       "      <td>Female</td>\n",
       "      <td>49.0</td>\n",
       "      <td>Working Professional</td>\n",
       "      <td>Chef</td>\n",
       "      <td>NaN</td>\n",
       "      <td>5.0</td>\n",
       "      <td>NaN</td>\n",
       "      <td>NaN</td>\n",
       "      <td>2.0</td>\n",
       "      <td>More than 8 hours</td>\n",
       "      <td>Healthy</td>\n",
       "      <td>BHM</td>\n",
       "      <td>No</td>\n",
       "      <td>1.0</td>\n",
       "      <td>2.0</td>\n",
       "      <td>No</td>\n",
       "      <td>0</td>\n",
       "    </tr>\n",
       "    <tr>\n",
       "      <th>1</th>\n",
       "      <td>Male</td>\n",
       "      <td>26.0</td>\n",
       "      <td>Working Professional</td>\n",
       "      <td>Teacher</td>\n",
       "      <td>NaN</td>\n",
       "      <td>4.0</td>\n",
       "      <td>NaN</td>\n",
       "      <td>NaN</td>\n",
       "      <td>3.0</td>\n",
       "      <td>Less than 5 hours</td>\n",
       "      <td>Unhealthy</td>\n",
       "      <td>LLB</td>\n",
       "      <td>Yes</td>\n",
       "      <td>7.0</td>\n",
       "      <td>3.0</td>\n",
       "      <td>No</td>\n",
       "      <td>1</td>\n",
       "    </tr>\n",
       "    <tr>\n",
       "      <th>2</th>\n",
       "      <td>Male</td>\n",
       "      <td>33.0</td>\n",
       "      <td>Student</td>\n",
       "      <td>NaN</td>\n",
       "      <td>5.0</td>\n",
       "      <td>NaN</td>\n",
       "      <td>8.97</td>\n",
       "      <td>2.0</td>\n",
       "      <td>NaN</td>\n",
       "      <td>5-6 hours</td>\n",
       "      <td>Healthy</td>\n",
       "      <td>B.Pharm</td>\n",
       "      <td>Yes</td>\n",
       "      <td>3.0</td>\n",
       "      <td>1.0</td>\n",
       "      <td>No</td>\n",
       "      <td>1</td>\n",
       "    </tr>\n",
       "    <tr>\n",
       "      <th>3</th>\n",
       "      <td>Male</td>\n",
       "      <td>22.0</td>\n",
       "      <td>Working Professional</td>\n",
       "      <td>Teacher</td>\n",
       "      <td>NaN</td>\n",
       "      <td>5.0</td>\n",
       "      <td>NaN</td>\n",
       "      <td>NaN</td>\n",
       "      <td>1.0</td>\n",
       "      <td>Less than 5 hours</td>\n",
       "      <td>Moderate</td>\n",
       "      <td>BBA</td>\n",
       "      <td>Yes</td>\n",
       "      <td>10.0</td>\n",
       "      <td>1.0</td>\n",
       "      <td>Yes</td>\n",
       "      <td>1</td>\n",
       "    </tr>\n",
       "    <tr>\n",
       "      <th>4</th>\n",
       "      <td>Female</td>\n",
       "      <td>30.0</td>\n",
       "      <td>Working Professional</td>\n",
       "      <td>Business Analyst</td>\n",
       "      <td>NaN</td>\n",
       "      <td>1.0</td>\n",
       "      <td>NaN</td>\n",
       "      <td>NaN</td>\n",
       "      <td>1.0</td>\n",
       "      <td>5-6 hours</td>\n",
       "      <td>Unhealthy</td>\n",
       "      <td>BBA</td>\n",
       "      <td>Yes</td>\n",
       "      <td>9.0</td>\n",
       "      <td>4.0</td>\n",
       "      <td>Yes</td>\n",
       "      <td>0</td>\n",
       "    </tr>\n",
       "  </tbody>\n",
       "</table>\n",
       "</div>"
      ],
      "text/plain": [
       "   Gender   Age Working Professional or Student        Profession  \\\n",
       "0  Female  49.0            Working Professional              Chef   \n",
       "1    Male  26.0            Working Professional           Teacher   \n",
       "2    Male  33.0                         Student               NaN   \n",
       "3    Male  22.0            Working Professional           Teacher   \n",
       "4  Female  30.0            Working Professional  Business Analyst   \n",
       "\n",
       "   Academic Pressure  Work Pressure  CGPA  Study Satisfaction  \\\n",
       "0                NaN            5.0   NaN                 NaN   \n",
       "1                NaN            4.0   NaN                 NaN   \n",
       "2                5.0            NaN  8.97                 2.0   \n",
       "3                NaN            5.0   NaN                 NaN   \n",
       "4                NaN            1.0   NaN                 NaN   \n",
       "\n",
       "   Job Satisfaction     Sleep Duration Dietary Habits   Degree  \\\n",
       "0               2.0  More than 8 hours        Healthy      BHM   \n",
       "1               3.0  Less than 5 hours      Unhealthy      LLB   \n",
       "2               NaN          5-6 hours        Healthy  B.Pharm   \n",
       "3               1.0  Less than 5 hours       Moderate      BBA   \n",
       "4               1.0          5-6 hours      Unhealthy      BBA   \n",
       "\n",
       "  Have you ever had suicidal thoughts ?  Work/Study Hours  Financial Stress  \\\n",
       "0                                    No               1.0               2.0   \n",
       "1                                   Yes               7.0               3.0   \n",
       "2                                   Yes               3.0               1.0   \n",
       "3                                   Yes              10.0               1.0   \n",
       "4                                   Yes               9.0               4.0   \n",
       "\n",
       "  Family History of Mental Illness  Depression  \n",
       "0                               No           0  \n",
       "1                               No           1  \n",
       "2                               No           1  \n",
       "3                              Yes           1  \n",
       "4                              Yes           0  "
      ]
     },
     "execution_count": 5,
     "metadata": {},
     "output_type": "execute_result"
    }
   ],
   "source": [
    "train_origin.head(5)"
   ]
  },
  {
   "cell_type": "code",
   "execution_count": 6,
   "id": "e828eff0",
   "metadata": {},
   "outputs": [
    {
     "name": "stdout",
     "output_type": "stream",
     "text": [
      "<class 'pandas.core.frame.DataFrame'>\n",
      "RangeIndex: 140700 entries, 0 to 140699\n",
      "Data columns (total 17 columns):\n",
      " #   Column                                 Non-Null Count   Dtype  \n",
      "---  ------                                 --------------   -----  \n",
      " 0   Gender                                 140700 non-null  object \n",
      " 1   Age                                    140700 non-null  float64\n",
      " 2   Working Professional or Student        140700 non-null  object \n",
      " 3   Profession                             104070 non-null  object \n",
      " 4   Academic Pressure                      27897 non-null   float64\n",
      " 5   Work Pressure                          112782 non-null  float64\n",
      " 6   CGPA                                   27898 non-null   float64\n",
      " 7   Study Satisfaction                     27897 non-null   float64\n",
      " 8   Job Satisfaction                       112790 non-null  float64\n",
      " 9   Sleep Duration                         140700 non-null  object \n",
      " 10  Dietary Habits                         140696 non-null  object \n",
      " 11  Degree                                 140698 non-null  object \n",
      " 12  Have you ever had suicidal thoughts ?  140700 non-null  object \n",
      " 13  Work/Study Hours                       140700 non-null  float64\n",
      " 14  Financial Stress                       140696 non-null  float64\n",
      " 15  Family History of Mental Illness       140700 non-null  object \n",
      " 16  Depression                             140700 non-null  int64  \n",
      "dtypes: float64(8), int64(1), object(8)\n",
      "memory usage: 18.2+ MB\n"
     ]
    }
   ],
   "source": [
    "train_origin.info()"
   ]
  },
  {
   "cell_type": "markdown",
   "id": "32e416aa",
   "metadata": {},
   "source": [
    "## 1、第一列:Gender"
   ]
  },
  {
   "cell_type": "code",
   "execution_count": 6,
   "id": "6d8e72b3",
   "metadata": {},
   "outputs": [
    {
     "data": {
      "text/plain": [
       "Gender\n",
       "Male      77464\n",
       "Female    63236\n",
       "Name: count, dtype: int64"
      ]
     },
     "execution_count": 6,
     "metadata": {},
     "output_type": "execute_result"
    }
   ],
   "source": [
    "train_origin['Gender'].value_counts()"
   ]
  },
  {
   "cell_type": "code",
   "execution_count": 7,
   "id": "b2d7c5c3",
   "metadata": {},
   "outputs": [],
   "source": [
    "label_encoder = LabelEncoder()\n",
    "train_origin['Gender'] = label_encoder.fit_transform(train_origin['Gender'])"
   ]
  },
  {
   "cell_type": "markdown",
   "id": "4ec05c61",
   "metadata": {},
   "source": [
    "## 2、第二列：Working Professional or Student"
   ]
  },
  {
   "cell_type": "code",
   "execution_count": 8,
   "id": "dbcdb692",
   "metadata": {},
   "outputs": [
    {
     "data": {
      "text/plain": [
       "Working Professional or Student\n",
       "Working Professional    112799\n",
       "Student                  27901\n",
       "Name: count, dtype: int64"
      ]
     },
     "execution_count": 8,
     "metadata": {},
     "output_type": "execute_result"
    }
   ],
   "source": [
    "train_origin['Working Professional or Student'].value_counts()"
   ]
  },
  {
   "cell_type": "code",
   "execution_count": 9,
   "id": "019b6d17",
   "metadata": {},
   "outputs": [],
   "source": [
    "train_origin['Working Professional or Student'] = label_encoder.fit_transform(train_origin['Working Professional or Student'])"
   ]
  },
  {
   "cell_type": "markdown",
   "id": "58ffeae0",
   "metadata": {},
   "source": [
    "## 3、第三列：Profession"
   ]
  },
  {
   "cell_type": "code",
   "execution_count": 10,
   "id": "f9c7a9ec",
   "metadata": {},
   "outputs": [
    {
     "data": {
      "text/plain": [
       "Profession\n",
       "Teacher           24906\n",
       "Content Writer     7814\n",
       "Architect          4370\n",
       "Consultant         4229\n",
       "HR Manager         4022\n",
       "                  ...  \n",
       "Moderate              1\n",
       "Analyst               1\n",
       "Pranav                1\n",
       "Visakhapatnam         1\n",
       "Yuvraj                1\n",
       "Name: count, Length: 64, dtype: int64"
      ]
     },
     "execution_count": 10,
     "metadata": {},
     "output_type": "execute_result"
    }
   ],
   "source": [
    "train_origin['Profession'].value_counts()"
   ]
  },
  {
   "cell_type": "code",
   "execution_count": 11,
   "id": "6fe04cc8",
   "metadata": {},
   "outputs": [],
   "source": [
    "train_origin['Profession'] = label_encoder.fit_transform(train_origin['Profession'])"
   ]
  },
  {
   "cell_type": "markdown",
   "id": "f70a3652",
   "metadata": {},
   "source": [
    "## 4、第四列：Academic Pressure"
   ]
  },
  {
   "cell_type": "code",
   "execution_count": 12,
   "id": "44e4751a",
   "metadata": {},
   "outputs": [
    {
     "data": {
      "text/plain": [
       "Academic Pressure\n",
       "3.0    7463\n",
       "5.0    6296\n",
       "4.0    5158\n",
       "1.0    4801\n",
       "2.0    4179\n",
       "Name: count, dtype: int64"
      ]
     },
     "execution_count": 12,
     "metadata": {},
     "output_type": "execute_result"
    }
   ],
   "source": [
    "train_origin['Academic Pressure'].value_counts()"
   ]
  },
  {
   "cell_type": "markdown",
   "id": "1cbb4df8",
   "metadata": {},
   "source": [
    "## 5、第五列：Pressure"
   ]
  },
  {
   "cell_type": "code",
   "execution_count": 13,
   "id": "4d389c15",
   "metadata": {},
   "outputs": [],
   "source": [
    "train_origin[\"Pressure\"] = train_origin[\"Academic Pressure\"].combine_first(train_origin[\"Work Pressure\"])"
   ]
  },
  {
   "cell_type": "code",
   "execution_count": 14,
   "id": "9b4d878a",
   "metadata": {},
   "outputs": [],
   "source": [
    "train_origin.drop(columns=\"Work Pressure\",inplace=True)\n",
    "train_origin.drop(columns=\"Academic Pressure\",inplace=True)"
   ]
  },
  {
   "cell_type": "markdown",
   "id": "82c79dac",
   "metadata": {},
   "source": [
    "## 6、第六列：satisfaction"
   ]
  },
  {
   "cell_type": "code",
   "execution_count": 15,
   "id": "4ed8cd50",
   "metadata": {},
   "outputs": [
    {
     "data": {
      "text/html": [
       "<div>\n",
       "<style scoped>\n",
       "    .dataframe tbody tr th:only-of-type {\n",
       "        vertical-align: middle;\n",
       "    }\n",
       "\n",
       "    .dataframe tbody tr th {\n",
       "        vertical-align: top;\n",
       "    }\n",
       "\n",
       "    .dataframe thead th {\n",
       "        text-align: right;\n",
       "    }\n",
       "</style>\n",
       "<table border=\"1\" class=\"dataframe\">\n",
       "  <thead>\n",
       "    <tr style=\"text-align: right;\">\n",
       "      <th></th>\n",
       "      <th>Gender</th>\n",
       "      <th>Age</th>\n",
       "      <th>Working Professional or Student</th>\n",
       "      <th>Profession</th>\n",
       "      <th>CGPA</th>\n",
       "      <th>Sleep Duration</th>\n",
       "      <th>Dietary Habits</th>\n",
       "      <th>Degree</th>\n",
       "      <th>Have you ever had suicidal thoughts ?</th>\n",
       "      <th>Work/Study Hours</th>\n",
       "      <th>Financial Stress</th>\n",
       "      <th>Family History of Mental Illness</th>\n",
       "      <th>Depression</th>\n",
       "      <th>Pressure</th>\n",
       "      <th>Satisfaction</th>\n",
       "    </tr>\n",
       "  </thead>\n",
       "  <tbody>\n",
       "    <tr>\n",
       "      <th>0</th>\n",
       "      <td>0</td>\n",
       "      <td>49.0</td>\n",
       "      <td>1</td>\n",
       "      <td>10</td>\n",
       "      <td>NaN</td>\n",
       "      <td>More than 8 hours</td>\n",
       "      <td>Healthy</td>\n",
       "      <td>BHM</td>\n",
       "      <td>No</td>\n",
       "      <td>1.0</td>\n",
       "      <td>2.0</td>\n",
       "      <td>No</td>\n",
       "      <td>0</td>\n",
       "      <td>5.0</td>\n",
       "      <td>2.0</td>\n",
       "    </tr>\n",
       "    <tr>\n",
       "      <th>1</th>\n",
       "      <td>1</td>\n",
       "      <td>26.0</td>\n",
       "      <td>1</td>\n",
       "      <td>55</td>\n",
       "      <td>NaN</td>\n",
       "      <td>Less than 5 hours</td>\n",
       "      <td>Unhealthy</td>\n",
       "      <td>LLB</td>\n",
       "      <td>Yes</td>\n",
       "      <td>7.0</td>\n",
       "      <td>3.0</td>\n",
       "      <td>No</td>\n",
       "      <td>1</td>\n",
       "      <td>4.0</td>\n",
       "      <td>3.0</td>\n",
       "    </tr>\n",
       "    <tr>\n",
       "      <th>2</th>\n",
       "      <td>1</td>\n",
       "      <td>33.0</td>\n",
       "      <td>0</td>\n",
       "      <td>64</td>\n",
       "      <td>8.97</td>\n",
       "      <td>5-6 hours</td>\n",
       "      <td>Healthy</td>\n",
       "      <td>B.Pharm</td>\n",
       "      <td>Yes</td>\n",
       "      <td>3.0</td>\n",
       "      <td>1.0</td>\n",
       "      <td>No</td>\n",
       "      <td>1</td>\n",
       "      <td>5.0</td>\n",
       "      <td>2.0</td>\n",
       "    </tr>\n",
       "    <tr>\n",
       "      <th>3</th>\n",
       "      <td>1</td>\n",
       "      <td>22.0</td>\n",
       "      <td>1</td>\n",
       "      <td>55</td>\n",
       "      <td>NaN</td>\n",
       "      <td>Less than 5 hours</td>\n",
       "      <td>Moderate</td>\n",
       "      <td>BBA</td>\n",
       "      <td>Yes</td>\n",
       "      <td>10.0</td>\n",
       "      <td>1.0</td>\n",
       "      <td>Yes</td>\n",
       "      <td>1</td>\n",
       "      <td>5.0</td>\n",
       "      <td>1.0</td>\n",
       "    </tr>\n",
       "    <tr>\n",
       "      <th>4</th>\n",
       "      <td>0</td>\n",
       "      <td>30.0</td>\n",
       "      <td>1</td>\n",
       "      <td>9</td>\n",
       "      <td>NaN</td>\n",
       "      <td>5-6 hours</td>\n",
       "      <td>Unhealthy</td>\n",
       "      <td>BBA</td>\n",
       "      <td>Yes</td>\n",
       "      <td>9.0</td>\n",
       "      <td>4.0</td>\n",
       "      <td>Yes</td>\n",
       "      <td>0</td>\n",
       "      <td>1.0</td>\n",
       "      <td>1.0</td>\n",
       "    </tr>\n",
       "  </tbody>\n",
       "</table>\n",
       "</div>"
      ],
      "text/plain": [
       "   Gender   Age  Working Professional or Student  Profession  CGPA  \\\n",
       "0       0  49.0                                1          10   NaN   \n",
       "1       1  26.0                                1          55   NaN   \n",
       "2       1  33.0                                0          64  8.97   \n",
       "3       1  22.0                                1          55   NaN   \n",
       "4       0  30.0                                1           9   NaN   \n",
       "\n",
       "      Sleep Duration Dietary Habits   Degree  \\\n",
       "0  More than 8 hours        Healthy      BHM   \n",
       "1  Less than 5 hours      Unhealthy      LLB   \n",
       "2          5-6 hours        Healthy  B.Pharm   \n",
       "3  Less than 5 hours       Moderate      BBA   \n",
       "4          5-6 hours      Unhealthy      BBA   \n",
       "\n",
       "  Have you ever had suicidal thoughts ?  Work/Study Hours  Financial Stress  \\\n",
       "0                                    No               1.0               2.0   \n",
       "1                                   Yes               7.0               3.0   \n",
       "2                                   Yes               3.0               1.0   \n",
       "3                                   Yes              10.0               1.0   \n",
       "4                                   Yes               9.0               4.0   \n",
       "\n",
       "  Family History of Mental Illness  Depression  Pressure  Satisfaction  \n",
       "0                               No           0       5.0           2.0  \n",
       "1                               No           1       4.0           3.0  \n",
       "2                               No           1       5.0           2.0  \n",
       "3                              Yes           1       5.0           1.0  \n",
       "4                              Yes           0       1.0           1.0  "
      ]
     },
     "execution_count": 15,
     "metadata": {},
     "output_type": "execute_result"
    }
   ],
   "source": [
    "train_origin[\"Satisfaction\"] = train_origin[\"Study Satisfaction\"].combine_first(train_origin[\"Job Satisfaction\"])\n",
    "train_origin.drop(columns=\"Study Satisfaction\",inplace=True)\n",
    "train_origin.drop(columns=\"Job Satisfaction\",inplace=True)\n",
    "# 查看结果\n",
    "train_origin.head()"
   ]
  },
  {
   "cell_type": "markdown",
   "id": "45d3a5ad",
   "metadata": {},
   "source": [
    "## 7、第七列：CGPA"
   ]
  },
  {
   "cell_type": "code",
   "execution_count": 16,
   "id": "89736466",
   "metadata": {},
   "outputs": [],
   "source": [
    "#缺失值填充0\n",
    "train_origin['CGPA'] = train_origin['CGPA'].fillna(0)"
   ]
  },
  {
   "cell_type": "markdown",
   "id": "c3f6ecb6",
   "metadata": {},
   "source": [
    "## 8、第八列：Sleep Duration"
   ]
  },
  {
   "cell_type": "code",
   "execution_count": 17,
   "id": "739227ee",
   "metadata": {},
   "outputs": [
    {
     "data": {
      "text/plain": [
       "count                140700\n",
       "unique                   36\n",
       "top       Less than 5 hours\n",
       "freq                  38784\n",
       "Name: Sleep Duration, dtype: object"
      ]
     },
     "execution_count": 17,
     "metadata": {},
     "output_type": "execute_result"
    }
   ],
   "source": [
    "train_origin['Sleep Duration'].describe()"
   ]
  },
  {
   "cell_type": "code",
   "execution_count": 18,
   "id": "611e1076",
   "metadata": {},
   "outputs": [
    {
     "data": {
      "text/plain": [
       "0         More than 8 hours\n",
       "1         Less than 5 hours\n",
       "2                 5-6 hours\n",
       "3         Less than 5 hours\n",
       "4                 5-6 hours\n",
       "                ...        \n",
       "140695            5-6 hours\n",
       "140696            7-8 hours\n",
       "140697    More than 8 hours\n",
       "140698            5-6 hours\n",
       "140699    Less than 5 hours\n",
       "Name: Sleep Duration, Length: 140700, dtype: object"
      ]
     },
     "execution_count": 18,
     "metadata": {},
     "output_type": "execute_result"
    }
   ],
   "source": [
    "\n",
    "Sleep_Duration_counts = train_origin['Sleep Duration'].value_counts()\n",
    "to_replace = Sleep_Duration_counts[Sleep_Duration_counts == 1].index\n",
    "# 将这些值替换为 \"Less than 5 hours\"\n",
    "train_origin['Sleep Duration'] = train_origin['Sleep Duration'].replace(to_replace, \"Less than 5 hours\")\n",
    "\n",
    "# 查看修改后的结果\n",
    "\n",
    "train_origin['Sleep Duration'].replace([\"45\",\"Sleep Duration\",\"Unhealthy\",\"No\"],\"Less than 5 hours\")\n"
   ]
  },
  {
   "cell_type": "code",
   "execution_count": 19,
   "id": "83a83ba4",
   "metadata": {},
   "outputs": [
    {
     "data": {
      "text/plain": [
       "Sleep Duration\n",
       "Less than 5 hours    38802\n",
       "7-8 hours            36969\n",
       "More than 8 hours    32726\n",
       "5-6 hours            32142\n",
       "3-4 hours               12\n",
       "6-7 hours                8\n",
       "4-5 hours                7\n",
       "2-3 hours                5\n",
       "4-6 hours                5\n",
       "6-8 hours                4\n",
       "No                       4\n",
       "1-6 hours                4\n",
       "Sleep_Duration           2\n",
       "10-11 hours              2\n",
       "8-9 hours                2\n",
       "9-11 hours               2\n",
       "45                       2\n",
       "Unhealthy                2\n",
       "Name: count, dtype: int64"
      ]
     },
     "execution_count": 19,
     "metadata": {},
     "output_type": "execute_result"
    }
   ],
   "source": [
    "train_origin['Sleep Duration'].value_counts()"
   ]
  },
  {
   "cell_type": "markdown",
   "id": "22828429",
   "metadata": {},
   "source": [
    "## 第13列：Dietary Habits"
   ]
  },
  {
   "cell_type": "code",
   "execution_count": 20,
   "id": "ab23a8d5",
   "metadata": {},
   "outputs": [
    {
     "data": {
      "text/plain": [
       "count       140696\n",
       "unique          23\n",
       "top       Moderate\n",
       "freq         49705\n",
       "Name: Dietary Habits, dtype: object"
      ]
     },
     "execution_count": 20,
     "metadata": {},
     "output_type": "execute_result"
    }
   ],
   "source": [
    "train_origin[\"Dietary Habits\"].describe()"
   ]
  },
  {
   "cell_type": "code",
   "execution_count": 21,
   "id": "a2d137ca",
   "metadata": {},
   "outputs": [
    {
     "data": {
      "text/plain": [
       "Dietary Habits\n",
       "Moderate             49705\n",
       "Unhealthy            46227\n",
       "Healthy              44741\n",
       "Yes                      2\n",
       "More Healthy             2\n",
       "No                       2\n",
       "Pratham                  1\n",
       "Gender                   1\n",
       "BSc                      1\n",
       "Less than Healthy        1\n",
       "3                        1\n",
       "1.0                      1\n",
       "Hormonal                 1\n",
       "Electrician              1\n",
       "Mihir                    1\n",
       "No Healthy               1\n",
       "Less Healthy             1\n",
       "M.Tech                   1\n",
       "Vegas                    1\n",
       "Male                     1\n",
       "Indoor                   1\n",
       "Class 12                 1\n",
       "2                        1\n",
       "Name: count, dtype: int64"
      ]
     },
     "execution_count": 21,
     "metadata": {},
     "output_type": "execute_result"
    }
   ],
   "source": [
    "train_origin[\"Dietary Habits\"].value_counts()"
   ]
  },
  {
   "cell_type": "code",
   "execution_count": 22,
   "id": "2cc95687",
   "metadata": {},
   "outputs": [],
   "source": [
    "# 创建映射字典\n",
    "corrections = {\n",
    "    \"Yes\":\"Healthy\",\n",
    "    \"No\":\"Unhealthy\",\n",
    "    \"No Healthy\": \"Unhealthy\",\n",
    "    \"Less Healthy\": \"Unhealthy\",\n",
    "    \"More Healthy\": \"Healthy\",\n",
    "    \"Less than Healthy\":\"Unhealthy\"\n",
    "}\n",
    "\n",
    "# 应用修正\n",
    "train_origin[\"Dietary Habits\"] = train_origin[\"Dietary Habits\"].replace(corrections)"
   ]
  },
  {
   "cell_type": "code",
   "execution_count": 23,
   "id": "92321b4d",
   "metadata": {},
   "outputs": [],
   "source": [
    "Dietary_counts = train_origin[\"Dietary Habits\"].value_counts()\n",
    "to_replace = Dietary_counts[Dietary_counts == 1].index\n",
    "train_origin['Dietary Habits'] = train_origin['Dietary Habits'].replace(to_replace, \"Moderate\")"
   ]
  },
  {
   "cell_type": "code",
   "execution_count": 24,
   "id": "fa6afa99",
   "metadata": {},
   "outputs": [
    {
     "data": {
      "text/plain": [
       "Dietary Habits\n",
       "Moderate     49719\n",
       "Unhealthy    46232\n",
       "Healthy      44745\n",
       "Name: count, dtype: int64"
      ]
     },
     "execution_count": 24,
     "metadata": {},
     "output_type": "execute_result"
    }
   ],
   "source": [
    "train_origin[\"Dietary Habits\"].value_counts()"
   ]
  },
  {
   "cell_type": "markdown",
   "id": "bdec31fe",
   "metadata": {},
   "source": [
    "## 第14列：Family History of Mental Illness"
   ]
  },
  {
   "cell_type": "code",
   "execution_count": 25,
   "id": "51493a78",
   "metadata": {},
   "outputs": [
    {
     "data": {
      "text/plain": [
       "count     140700\n",
       "unique         2\n",
       "top           No\n",
       "freq       70758\n",
       "Name: Family History of Mental Illness, dtype: object"
      ]
     },
     "execution_count": 25,
     "metadata": {},
     "output_type": "execute_result"
    }
   ],
   "source": [
    "train_origin[\"Family History of Mental Illness\"].describe()"
   ]
  },
  {
   "cell_type": "code",
   "execution_count": 26,
   "id": "b4f4d1e2",
   "metadata": {},
   "outputs": [],
   "source": [
    "train_origin[\"Family History of Mental Illness\"] = label_encoder.fit_transform(train_origin[\"Family History of Mental Illness\"])"
   ]
  },
  {
   "cell_type": "markdown",
   "id": "24de9cc2",
   "metadata": {},
   "source": [
    "## 第15列：Have you ever had suicidal thoughts ?"
   ]
  },
  {
   "cell_type": "code",
   "execution_count": 29,
   "id": "94894f81",
   "metadata": {},
   "outputs": [
    {
     "data": {
      "text/plain": [
       "Have you ever had suicidal thoughts ?\n",
       "0    71138\n",
       "1    69562\n",
       "Name: count, dtype: int64"
      ]
     },
     "execution_count": 29,
     "metadata": {},
     "output_type": "execute_result"
    }
   ],
   "source": [
    "train_origin[\"Have you ever had suicidal thoughts ?\"].value_counts()"
   ]
  },
  {
   "cell_type": "code",
   "execution_count": 28,
   "id": "fc9d278a",
   "metadata": {},
   "outputs": [],
   "source": [
    "train_origin[\"Have you ever had suicidal thoughts ?\"] = label_encoder.fit_transform(train_origin[\"Have you ever had suicidal thoughts ?\"])"
   ]
  },
  {
   "cell_type": "code",
   "execution_count": 30,
   "id": "4d90c54d",
   "metadata": {},
   "outputs": [
    {
     "data": {
      "text/html": [
       "<div>\n",
       "<style scoped>\n",
       "    .dataframe tbody tr th:only-of-type {\n",
       "        vertical-align: middle;\n",
       "    }\n",
       "\n",
       "    .dataframe tbody tr th {\n",
       "        vertical-align: top;\n",
       "    }\n",
       "\n",
       "    .dataframe thead th {\n",
       "        text-align: right;\n",
       "    }\n",
       "</style>\n",
       "<table border=\"1\" class=\"dataframe\">\n",
       "  <thead>\n",
       "    <tr style=\"text-align: right;\">\n",
       "      <th></th>\n",
       "      <th>Gender</th>\n",
       "      <th>Age</th>\n",
       "      <th>Working Professional or Student</th>\n",
       "      <th>Profession</th>\n",
       "      <th>CGPA</th>\n",
       "      <th>Sleep Duration</th>\n",
       "      <th>Dietary Habits</th>\n",
       "      <th>Degree</th>\n",
       "      <th>Have you ever had suicidal thoughts ?</th>\n",
       "      <th>Work/Study Hours</th>\n",
       "      <th>Financial Stress</th>\n",
       "      <th>Family History of Mental Illness</th>\n",
       "      <th>Depression</th>\n",
       "      <th>Pressure</th>\n",
       "      <th>Satisfaction</th>\n",
       "    </tr>\n",
       "  </thead>\n",
       "  <tbody>\n",
       "    <tr>\n",
       "      <th>0</th>\n",
       "      <td>0</td>\n",
       "      <td>49.0</td>\n",
       "      <td>1</td>\n",
       "      <td>10</td>\n",
       "      <td>0.00</td>\n",
       "      <td>More than 8 hours</td>\n",
       "      <td>Healthy</td>\n",
       "      <td>BHM</td>\n",
       "      <td>0</td>\n",
       "      <td>1.0</td>\n",
       "      <td>2.0</td>\n",
       "      <td>0</td>\n",
       "      <td>0</td>\n",
       "      <td>5.0</td>\n",
       "      <td>2.0</td>\n",
       "    </tr>\n",
       "    <tr>\n",
       "      <th>1</th>\n",
       "      <td>1</td>\n",
       "      <td>26.0</td>\n",
       "      <td>1</td>\n",
       "      <td>55</td>\n",
       "      <td>0.00</td>\n",
       "      <td>Less than 5 hours</td>\n",
       "      <td>Unhealthy</td>\n",
       "      <td>LLB</td>\n",
       "      <td>1</td>\n",
       "      <td>7.0</td>\n",
       "      <td>3.0</td>\n",
       "      <td>0</td>\n",
       "      <td>1</td>\n",
       "      <td>4.0</td>\n",
       "      <td>3.0</td>\n",
       "    </tr>\n",
       "    <tr>\n",
       "      <th>2</th>\n",
       "      <td>1</td>\n",
       "      <td>33.0</td>\n",
       "      <td>0</td>\n",
       "      <td>64</td>\n",
       "      <td>8.97</td>\n",
       "      <td>5-6 hours</td>\n",
       "      <td>Healthy</td>\n",
       "      <td>B.Pharm</td>\n",
       "      <td>1</td>\n",
       "      <td>3.0</td>\n",
       "      <td>1.0</td>\n",
       "      <td>0</td>\n",
       "      <td>1</td>\n",
       "      <td>5.0</td>\n",
       "      <td>2.0</td>\n",
       "    </tr>\n",
       "    <tr>\n",
       "      <th>3</th>\n",
       "      <td>1</td>\n",
       "      <td>22.0</td>\n",
       "      <td>1</td>\n",
       "      <td>55</td>\n",
       "      <td>0.00</td>\n",
       "      <td>Less than 5 hours</td>\n",
       "      <td>Moderate</td>\n",
       "      <td>BBA</td>\n",
       "      <td>1</td>\n",
       "      <td>10.0</td>\n",
       "      <td>1.0</td>\n",
       "      <td>1</td>\n",
       "      <td>1</td>\n",
       "      <td>5.0</td>\n",
       "      <td>1.0</td>\n",
       "    </tr>\n",
       "    <tr>\n",
       "      <th>4</th>\n",
       "      <td>0</td>\n",
       "      <td>30.0</td>\n",
       "      <td>1</td>\n",
       "      <td>9</td>\n",
       "      <td>0.00</td>\n",
       "      <td>5-6 hours</td>\n",
       "      <td>Unhealthy</td>\n",
       "      <td>BBA</td>\n",
       "      <td>1</td>\n",
       "      <td>9.0</td>\n",
       "      <td>4.0</td>\n",
       "      <td>1</td>\n",
       "      <td>0</td>\n",
       "      <td>1.0</td>\n",
       "      <td>1.0</td>\n",
       "    </tr>\n",
       "  </tbody>\n",
       "</table>\n",
       "</div>"
      ],
      "text/plain": [
       "   Gender   Age  Working Professional or Student  Profession  CGPA  \\\n",
       "0       0  49.0                                1          10  0.00   \n",
       "1       1  26.0                                1          55  0.00   \n",
       "2       1  33.0                                0          64  8.97   \n",
       "3       1  22.0                                1          55  0.00   \n",
       "4       0  30.0                                1           9  0.00   \n",
       "\n",
       "      Sleep Duration Dietary Habits   Degree  \\\n",
       "0  More than 8 hours        Healthy      BHM   \n",
       "1  Less than 5 hours      Unhealthy      LLB   \n",
       "2          5-6 hours        Healthy  B.Pharm   \n",
       "3  Less than 5 hours       Moderate      BBA   \n",
       "4          5-6 hours      Unhealthy      BBA   \n",
       "\n",
       "   Have you ever had suicidal thoughts ?  Work/Study Hours  Financial Stress  \\\n",
       "0                                      0               1.0               2.0   \n",
       "1                                      1               7.0               3.0   \n",
       "2                                      1               3.0               1.0   \n",
       "3                                      1              10.0               1.0   \n",
       "4                                      1               9.0               4.0   \n",
       "\n",
       "   Family History of Mental Illness  Depression  Pressure  Satisfaction  \n",
       "0                                 0           0       5.0           2.0  \n",
       "1                                 0           1       4.0           3.0  \n",
       "2                                 0           1       5.0           2.0  \n",
       "3                                 1           1       5.0           1.0  \n",
       "4                                 1           0       1.0           1.0  "
      ]
     },
     "execution_count": 30,
     "metadata": {},
     "output_type": "execute_result"
    }
   ],
   "source": [
    "train_origin.head()"
   ]
  },
  {
   "cell_type": "code",
   "execution_count": null,
   "id": "c21ae399",
   "metadata": {},
   "outputs": [],
   "source": []
  },
  {
   "cell_type": "markdown",
   "id": "7ce44bdc",
   "metadata": {},
   "source": [
    "## 1、探索一下不同职业中抑郁症的发病情况"
   ]
  },
  {
   "cell_type": "code",
   "execution_count": null,
   "id": "a106d5cb",
   "metadata": {},
   "outputs": [],
   "source": [
    "#❌\n",
    "df_work = train_origin[[\"Working Professional or Student\",\"Profession\",\"Depression\"]]\n",
    "df_work.head(5)"
   ]
  },
  {
   "cell_type": "markdown",
   "id": "29bd207c",
   "metadata": {},
   "source": [
    "#### 可视化一、抑郁人数可视化"
   ]
  },
  {
   "cell_type": "code",
   "execution_count": null,
   "id": "6bff2c82",
   "metadata": {},
   "outputs": [],
   "source": [
    "depress_count = df_work['Depression'].value_counts()"
   ]
  },
  {
   "cell_type": "code",
   "execution_count": null,
   "id": "417465f8",
   "metadata": {},
   "outputs": [],
   "source": [
    "plt.bar(depress_count.index,depress_count.values)\n",
    "plt.title(\"numbers of Depression\")\n",
    "# 为 x 轴添加标签，显示 0 和 1 的含义\n",
    "plt.xticks(ticks=[0, 1], labels=['0: Depression', '1: No Depression'], rotation=0)\n",
    "plt.show()"
   ]
  },
  {
   "cell_type": "markdown",
   "id": "a168812d",
   "metadata": {},
   "source": [
    "1、工作or学生"
   ]
  },
  {
   "cell_type": "code",
   "execution_count": null,
   "id": "3c98f709",
   "metadata": {},
   "outputs": [],
   "source": [
    "df_work[\"Working Professional or Student\"].value_counts()\n",
    "depress_count = df_work[\"Depression\"].value_counts()"
   ]
  },
  {
   "cell_type": "markdown",
   "id": "6463d17f",
   "metadata": {},
   "source": [
    "#### 可视化二、学生/打工人抑郁情况可视化"
   ]
  },
  {
   "cell_type": "code",
   "execution_count": null,
   "id": "05f83b21",
   "metadata": {},
   "outputs": [],
   "source": [
    "grouped = df_work.groupby(['Working Professional or Student', 'Depression']).size().unstack()\n",
    "grouped.plot(kind='bar', stacked=True, figsize=(8, 6))\n",
    "plt.title('Depression Levels by Category')\n",
    "plt.xlabel('Category')\n",
    "plt.ylabel('Count')\n",
    "plt.legend(['Depression = 0', 'Depression = 1'], title='Depression')\n",
    "plt.xticks(rotation=0)\n",
    "plt.show()"
   ]
  },
  {
   "cell_type": "code",
   "execution_count": null,
   "id": "325facaa",
   "metadata": {},
   "outputs": [],
   "source": [
    "df_work[\"Profession\"].value_counts()"
   ]
  },
  {
   "cell_type": "code",
   "execution_count": null,
   "id": "31ec67fd",
   "metadata": {},
   "outputs": [],
   "source": [
    "a = train_origin[\"Dietary Habits\"].value_counts()\n",
    "len(a)"
   ]
  },
  {
   "cell_type": "code",
   "execution_count": null,
   "id": "f2ac0ba9",
   "metadata": {},
   "outputs": [],
   "source": [
    "#### 我想删掉Dietary Habits这一列中，值为1的行；删掉Profession中值为1的行，删掉"
   ]
  },
  {
   "cell_type": "code",
   "execution_count": null,
   "id": "630fcd18",
   "metadata": {},
   "outputs": [],
   "source": [
    "from sklearn.model_selection import train_test_split\n",
    "from sklearn.preprocessing import MinMaxScaler, StandardScaler, LabelEncoder\n",
    "from sklearn.linear_model import LogisticRegression\n",
    "from sklearn.neighbors import KNeighborsClassifier\n",
    "from sklearn.ensemble import RandomForestClassifier, VotingClassifier"
   ]
  },
  {
   "cell_type": "code",
   "execution_count": null,
   "id": "878d3f08",
   "metadata": {},
   "outputs": [],
   "source": [
    "# # Initialize the Label Encoder\n",
    "# label_encoder = LabelEncoder()\n",
    "\n",
    "# list_encoder = ['Gender','Working Professional or Student','Profession','Dietary Habits']\n",
    "\n",
    "# for i in list_encoder:\n",
    "# # Fit and transform the loan_intent column\n",
    "#     train_origin[i] = label_encoder.fit_transform(train_origin[i])"
   ]
  },
  {
   "cell_type": "code",
   "execution_count": null,
   "id": "77b48d12",
   "metadata": {},
   "outputs": [],
   "source": [
    "# train_origin.head()"
   ]
  },
  {
   "cell_type": "code",
   "execution_count": null,
   "id": "dc5b75ea",
   "metadata": {},
   "outputs": [],
   "source": [
    "Profession_counts = train_origin[\"Profession\"].value_counts()\n",
    "len(Profession_counts)"
   ]
  },
  {
   "cell_type": "code",
   "execution_count": null,
   "id": "22a961af",
   "metadata": {},
   "outputs": [],
   "source": [
    "count88 = 0\n",
    "for x in Profession_counts.values:\n",
    "    if x == 1:\n",
    "        count88 += 1\n",
    "print(count88)"
   ]
  },
  {
   "cell_type": "code",
   "execution_count": null,
   "id": "dd0072ce",
   "metadata": {},
   "outputs": [],
   "source": [
    "Dietary_Habits_counts = train_origin[\"Dietary Habits\"].value_counts()\n",
    "len(Dietary_Habits_counts)"
   ]
  },
  {
   "cell_type": "code",
   "execution_count": null,
   "id": "11505661",
   "metadata": {},
   "outputs": [],
   "source": [
    "Sleep_Duration_count = train_origin['Sleep Duration'].value_counts()\n",
    "len(Sleep_Duration_count)"
   ]
  },
  {
   "cell_type": "code",
   "execution_count": null,
   "id": "c2c6fe4e",
   "metadata": {},
   "outputs": [],
   "source": [
    "Sleep_Duration_count"
   ]
  },
  {
   "cell_type": "code",
   "execution_count": null,
   "id": "a41c6d99",
   "metadata": {},
   "outputs": [],
   "source": [
    "import pandas as pd\n",
    "import numpy as np\n",
    "\n",
    "# 假设你的 DataFrame 名为 df\n",
    "# 示例 DataFrame (与图片结构一致)\n",
    "data = {\n",
    "    \"Study Satisfaction\": [np.nan, np.nan, 2.0, np.nan, np.nan],\n",
    "    \"Job Satisfaction\": [2.0, 3.0, np.nan, 1.0, 1.0]\n",
    "}\n",
    "df = pd.DataFrame(data)\n",
    "df"
   ]
  },
  {
   "cell_type": "code",
   "execution_count": null,
   "id": "a6d86ba5",
   "metadata": {},
   "outputs": [],
   "source": [
    "\n",
    "# 合并两列，优先选择非空值\n",
    "df[\"Satisfaction\"] = df[\"Study Satisfaction\"].combine_first(df[\"Job Satisfaction\"])\n",
    "\n",
    "# 查看结果\n",
    "df\n"
   ]
  },
  {
   "cell_type": "code",
   "execution_count": null,
   "id": "a64304cb",
   "metadata": {},
   "outputs": [],
   "source": []
  }
 ],
 "metadata": {
  "kernelspec": {
   "display_name": "UK1_torch",
   "language": "python",
   "name": "uk1"
  },
  "language_info": {
   "codemirror_mode": {
    "name": "ipython",
    "version": 3
   },
   "file_extension": ".py",
   "mimetype": "text/x-python",
   "name": "python",
   "nbconvert_exporter": "python",
   "pygments_lexer": "ipython3",
   "version": "3.9.20"
  }
 },
 "nbformat": 4,
 "nbformat_minor": 5
}
